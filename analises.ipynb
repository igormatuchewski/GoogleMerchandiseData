{
 "cells": [
  {
   "cell_type": "markdown",
   "metadata": {},
   "source": [
    "# Importando bibliotecas"
   ]
  },
  {
   "cell_type": "code",
   "execution_count": 1,
   "metadata": {},
   "outputs": [],
   "source": [
    "import pandas as pd\n",
    "import pyodbc\n",
    "import matplotlib.pyplot as plt\n",
    "import warnings"
   ]
  },
  {
   "cell_type": "markdown",
   "metadata": {},
   "source": [
    "Retirando avisos"
   ]
  },
  {
   "cell_type": "code",
   "execution_count": 2,
   "metadata": {},
   "outputs": [],
   "source": [
    "warnings.filterwarnings(\"ignore\", category=UserWarning)\n",
    "warnings.filterwarnings(\"ignore\", category=FutureWarning)\n",
    "warnings.filterwarnings(\"ignore\", category=pd.errors.SettingWithCopyWarning)"
   ]
  },
  {
   "cell_type": "markdown",
   "metadata": {},
   "source": [
    "# Conectando ao BD local"
   ]
  },
  {
   "cell_type": "code",
   "execution_count": 3,
   "metadata": {},
   "outputs": [],
   "source": [
    "dados_conexao = (\n",
    "    \"Driver={SQL SERVER};\"\n",
    "    \"Server=DESKTOP-C42TKRR;\"\n",
    "    \"Database=GoogleMerchandise;\"\n",
    "    \"Trusted_Connection=yes;\" \n",
    ")\n",
    "\n",
    "conexao = pyodbc.connect(dados_conexao, timeout=60)\n"
   ]
  },
  {
   "cell_type": "markdown",
   "metadata": {},
   "source": [
    "Atribuindo cada tabela a um df"
   ]
  },
  {
   "cell_type": "code",
   "execution_count": 4,
   "metadata": {},
   "outputs": [],
   "source": [
    "query_normal = \"SELECT * FROM google_normalizada\"\n",
    "\n",
    "df_normal = pd.read_sql_query(query_normal, conexao)\n"
   ]
  },
  {
   "cell_type": "code",
   "execution_count": 5,
   "metadata": {},
   "outputs": [],
   "source": [
    "query_items = \"SELECT * FROM items\"\n",
    "\n",
    "df_items = pd.read_sql_query(query_items, conexao)"
   ]
  },
  {
   "cell_type": "code",
   "execution_count": 6,
   "metadata": {},
   "outputs": [],
   "source": [
    "query_users = \"SELECT * FROM users\"\n",
    "\n",
    "df_users = pd.read_sql_query(query_users, conexao)"
   ]
  },
  {
   "cell_type": "markdown",
   "metadata": {},
   "source": [
    "# Análise das bases (validações)"
   ]
  },
  {
   "cell_type": "markdown",
   "metadata": {},
   "source": [
    "Analisando o contexto geral da tabela"
   ]
  },
  {
   "cell_type": "code",
   "execution_count": 7,
   "metadata": {},
   "outputs": [
    {
     "data": {
      "text/html": [
       "<div>\n",
       "<style scoped>\n",
       "    .dataframe tbody tr th:only-of-type {\n",
       "        vertical-align: middle;\n",
       "    }\n",
       "\n",
       "    .dataframe tbody tr th {\n",
       "        vertical-align: top;\n",
       "    }\n",
       "\n",
       "    .dataframe thead th {\n",
       "        text-align: right;\n",
       "    }\n",
       "</style>\n",
       "<table border=\"1\" class=\"dataframe\">\n",
       "  <thead>\n",
       "    <tr style=\"text-align: right;\">\n",
       "      <th></th>\n",
       "      <th>id</th>\n",
       "      <th>name</th>\n",
       "      <th>brand</th>\n",
       "      <th>variant</th>\n",
       "      <th>category</th>\n",
       "      <th>price_in_usd</th>\n",
       "    </tr>\n",
       "  </thead>\n",
       "  <tbody>\n",
       "    <tr>\n",
       "      <th>0</th>\n",
       "      <td>0</td>\n",
       "      <td>Google Land &amp; Sea Cotton Cap</td>\n",
       "      <td>Google</td>\n",
       "      <td>Single Option Only</td>\n",
       "      <td>Apparel</td>\n",
       "      <td>14.0</td>\n",
       "    </tr>\n",
       "    <tr>\n",
       "      <th>1</th>\n",
       "      <td>1</td>\n",
       "      <td>Google KeepCup</td>\n",
       "      <td>Google</td>\n",
       "      <td>Single Option Only</td>\n",
       "      <td>New</td>\n",
       "      <td>28.0</td>\n",
       "    </tr>\n",
       "    <tr>\n",
       "      <th>2</th>\n",
       "      <td>2</td>\n",
       "      <td>Google Land &amp; Sea Nalgene Water Bottle</td>\n",
       "      <td>Google</td>\n",
       "      <td>Single Option Only</td>\n",
       "      <td>Drinkware</td>\n",
       "      <td>20.0</td>\n",
       "    </tr>\n",
       "    <tr>\n",
       "      <th>3</th>\n",
       "      <td>3</td>\n",
       "      <td>Google Unisex Eco Tee Black</td>\n",
       "      <td>Google</td>\n",
       "      <td>LG</td>\n",
       "      <td>Uncategorized Items</td>\n",
       "      <td>22.0</td>\n",
       "    </tr>\n",
       "    <tr>\n",
       "      <th>4</th>\n",
       "      <td>4</td>\n",
       "      <td>Google Chicago Campus Bottle</td>\n",
       "      <td>Google</td>\n",
       "      <td>Single Option Only</td>\n",
       "      <td>Campus Collection</td>\n",
       "      <td>11.0</td>\n",
       "    </tr>\n",
       "  </tbody>\n",
       "</table>\n",
       "</div>"
      ],
      "text/plain": [
       "   id                                    name   brand             variant  \\\n",
       "0   0            Google Land & Sea Cotton Cap  Google  Single Option Only   \n",
       "1   1                          Google KeepCup  Google  Single Option Only   \n",
       "2   2  Google Land & Sea Nalgene Water Bottle  Google  Single Option Only   \n",
       "3   3             Google Unisex Eco Tee Black  Google                  LG   \n",
       "4   4            Google Chicago Campus Bottle  Google  Single Option Only   \n",
       "\n",
       "              category  price_in_usd  \n",
       "0              Apparel          14.0  \n",
       "1                  New          28.0  \n",
       "2            Drinkware          20.0  \n",
       "3  Uncategorized Items          22.0  \n",
       "4    Campus Collection          11.0  "
      ]
     },
     "execution_count": 7,
     "metadata": {},
     "output_type": "execute_result"
    }
   ],
   "source": [
    "df_items.head()"
   ]
  },
  {
   "cell_type": "markdown",
   "metadata": {},
   "source": [
    "### 1. Tabela items"
   ]
  },
  {
   "cell_type": "markdown",
   "metadata": {},
   "source": [
    "1.1 Verificando duplicidades na coluna id"
   ]
  },
  {
   "cell_type": "code",
   "execution_count": 8,
   "metadata": {},
   "outputs": [
    {
     "data": {
      "text/plain": [
       "False"
      ]
     },
     "execution_count": 8,
     "metadata": {},
     "output_type": "execute_result"
    }
   ],
   "source": [
    "df_items['id'].duplicated().any()"
   ]
  },
  {
   "cell_type": "markdown",
   "metadata": {},
   "source": [
    "1.2 Verificando duplicidades na coluna name"
   ]
  },
  {
   "cell_type": "code",
   "execution_count": 9,
   "metadata": {},
   "outputs": [
    {
     "data": {
      "text/plain": [
       "True"
      ]
     },
     "execution_count": 9,
     "metadata": {},
     "output_type": "execute_result"
    }
   ],
   "source": [
    "df_items['name'].duplicated().any()"
   ]
  },
  {
   "cell_type": "markdown",
   "metadata": {},
   "source": [
    "2. Verificando quais itens tem mais duplicidade e quantas são as variações"
   ]
  },
  {
   "cell_type": "code",
   "execution_count": 10,
   "metadata": {},
   "outputs": [
    {
     "data": {
      "text/html": [
       "<div>\n",
       "<style scoped>\n",
       "    .dataframe tbody tr th:only-of-type {\n",
       "        vertical-align: middle;\n",
       "    }\n",
       "\n",
       "    .dataframe tbody tr th {\n",
       "        vertical-align: top;\n",
       "    }\n",
       "\n",
       "    .dataframe thead th {\n",
       "        text-align: right;\n",
       "    }\n",
       "</style>\n",
       "<table border=\"1\" class=\"dataframe\">\n",
       "  <thead>\n",
       "    <tr style=\"text-align: right;\">\n",
       "      <th></th>\n",
       "      <th>qtd_ids</th>\n",
       "      <th>qtd_variacoes</th>\n",
       "    </tr>\n",
       "    <tr>\n",
       "      <th>name</th>\n",
       "      <th></th>\n",
       "      <th></th>\n",
       "    </tr>\n",
       "  </thead>\n",
       "  <tbody>\n",
       "    <tr>\n",
       "      <th>Google Land &amp; Sea French Terry Sweatshirt</th>\n",
       "      <td>14</td>\n",
       "      <td>12</td>\n",
       "    </tr>\n",
       "    <tr>\n",
       "      <th>Google NYC Campus Zip Hoodie</th>\n",
       "      <td>9</td>\n",
       "      <td>8</td>\n",
       "    </tr>\n",
       "    <tr>\n",
       "      <th>Android Garden Tee Orange</th>\n",
       "      <td>9</td>\n",
       "      <td>8</td>\n",
       "    </tr>\n",
       "    <tr>\n",
       "      <th>Google Zip Hoodie F/C</th>\n",
       "      <td>9</td>\n",
       "      <td>8</td>\n",
       "    </tr>\n",
       "    <tr>\n",
       "      <th>Google Women's Grid Zip-Up</th>\n",
       "      <td>9</td>\n",
       "      <td>8</td>\n",
       "    </tr>\n",
       "    <tr>\n",
       "      <th>...</th>\n",
       "      <td>...</td>\n",
       "      <td>...</td>\n",
       "    </tr>\n",
       "    <tr>\n",
       "      <th>Google F/C Long Sleeve Tee Charcoal</th>\n",
       "      <td>2</td>\n",
       "      <td>1</td>\n",
       "    </tr>\n",
       "    <tr>\n",
       "      <th>Google F/C Long Sleeve Tee Ash</th>\n",
       "      <td>2</td>\n",
       "      <td>1</td>\n",
       "    </tr>\n",
       "    <tr>\n",
       "      <th>Google Emoji Sticker Pack</th>\n",
       "      <td>2</td>\n",
       "      <td>1</td>\n",
       "    </tr>\n",
       "    <tr>\n",
       "      <th>Google Incognito Dopp Kit V2</th>\n",
       "      <td>2</td>\n",
       "      <td>1</td>\n",
       "    </tr>\n",
       "    <tr>\n",
       "      <th>Google Incognito Flap Pack</th>\n",
       "      <td>2</td>\n",
       "      <td>1</td>\n",
       "    </tr>\n",
       "  </tbody>\n",
       "</table>\n",
       "<p>396 rows × 2 columns</p>\n",
       "</div>"
      ],
      "text/plain": [
       "                                           qtd_ids  qtd_variacoes\n",
       "name                                                             \n",
       "Google Land & Sea French Terry Sweatshirt       14             12\n",
       "Google NYC Campus Zip Hoodie                     9              8\n",
       "Android Garden Tee Orange                        9              8\n",
       "Google Zip Hoodie F/C                            9              8\n",
       "Google Women's Grid Zip-Up                       9              8\n",
       "...                                            ...            ...\n",
       "Google F/C Long Sleeve Tee Charcoal              2              1\n",
       "Google F/C Long Sleeve Tee Ash                   2              1\n",
       "Google Emoji Sticker Pack                        2              1\n",
       "Google Incognito Dopp Kit V2                     2              1\n",
       "Google Incognito Flap Pack                       2              1\n",
       "\n",
       "[396 rows x 2 columns]"
      ]
     },
     "execution_count": 10,
     "metadata": {},
     "output_type": "execute_result"
    }
   ],
   "source": [
    "df_validacao = df_items[['name', 'id', 'variant']].drop_duplicates().groupby('name').agg(qtd_ids = ('id', 'count'), qtd_variacoes = ('variant', 'count')).sort_values(by='qtd_ids', ascending=False)\n",
    "df_validacao.loc[(df_validacao['qtd_ids'] > 1) & (df_validacao['qtd_variacoes'] != df_validacao['qtd_ids'])]"
   ]
  },
  {
   "cell_type": "markdown",
   "metadata": {},
   "source": [
    "Para esse caso eu usei a seguinte abordagem, quando a qtd_ids for igual a qtd_variacoes, podemos dizer que está correto pois o item pode ter um tamanho G e outro um tamanho M.\n",
    "Porém, para os itens que possuem essa diferença, constatei que um possui um valor de variação e outro não (exceto para o item \"Google Land & Sea French Terry Sweatshirt\"), portanto para estes casos, irei preencher a variação com \"None\".\n",
    "\n",
    "Para o item \"Google Land & Sea French Terry Sweatshirt\" que possui dois itens sem variação.. veja abaixo:"
   ]
  },
  {
   "cell_type": "code",
   "execution_count": 11,
   "metadata": {},
   "outputs": [
    {
     "data": {
      "text/html": [
       "<div>\n",
       "<style scoped>\n",
       "    .dataframe tbody tr th:only-of-type {\n",
       "        vertical-align: middle;\n",
       "    }\n",
       "\n",
       "    .dataframe tbody tr th {\n",
       "        vertical-align: top;\n",
       "    }\n",
       "\n",
       "    .dataframe thead th {\n",
       "        text-align: right;\n",
       "    }\n",
       "</style>\n",
       "<table border=\"1\" class=\"dataframe\">\n",
       "  <thead>\n",
       "    <tr style=\"text-align: right;\">\n",
       "      <th></th>\n",
       "      <th>id</th>\n",
       "      <th>name</th>\n",
       "      <th>brand</th>\n",
       "      <th>variant</th>\n",
       "      <th>category</th>\n",
       "      <th>price_in_usd</th>\n",
       "    </tr>\n",
       "  </thead>\n",
       "  <tbody>\n",
       "    <tr>\n",
       "      <th>89</th>\n",
       "      <td>89</td>\n",
       "      <td>Google Land &amp; Sea French Terry Sweatshirt</td>\n",
       "      <td>Google</td>\n",
       "      <td>LG</td>\n",
       "      <td>Shop by Brand</td>\n",
       "      <td>44.0</td>\n",
       "    </tr>\n",
       "    <tr>\n",
       "      <th>303</th>\n",
       "      <td>303</td>\n",
       "      <td>Google Land &amp; Sea French Terry Sweatshirt</td>\n",
       "      <td>Google</td>\n",
       "      <td>3XL</td>\n",
       "      <td>Shop by Brand</td>\n",
       "      <td>44.0</td>\n",
       "    </tr>\n",
       "    <tr>\n",
       "      <th>518</th>\n",
       "      <td>518</td>\n",
       "      <td>Google Land &amp; Sea French Terry Sweatshirt</td>\n",
       "      <td>Google</td>\n",
       "      <td>XS</td>\n",
       "      <td>Shop by Brand</td>\n",
       "      <td>44.0</td>\n",
       "    </tr>\n",
       "    <tr>\n",
       "      <th>559</th>\n",
       "      <td>559</td>\n",
       "      <td>Google Land &amp; Sea French Terry Sweatshirt</td>\n",
       "      <td>Google</td>\n",
       "      <td>XS</td>\n",
       "      <td>Shop by Brand</td>\n",
       "      <td>44.0</td>\n",
       "    </tr>\n",
       "    <tr>\n",
       "      <th>560</th>\n",
       "      <td>560</td>\n",
       "      <td>Google Land &amp; Sea French Terry Sweatshirt</td>\n",
       "      <td>Google</td>\n",
       "      <td>XL</td>\n",
       "      <td>Shop by Brand</td>\n",
       "      <td>44.0</td>\n",
       "    </tr>\n",
       "    <tr>\n",
       "      <th>622</th>\n",
       "      <td>622</td>\n",
       "      <td>Google Land &amp; Sea French Terry Sweatshirt</td>\n",
       "      <td>Google</td>\n",
       "      <td>XL</td>\n",
       "      <td>Shop by Brand</td>\n",
       "      <td>44.0</td>\n",
       "    </tr>\n",
       "    <tr>\n",
       "      <th>706</th>\n",
       "      <td>706</td>\n",
       "      <td>Google Land &amp; Sea French Terry Sweatshirt</td>\n",
       "      <td>Google</td>\n",
       "      <td>2XL</td>\n",
       "      <td>Shop by Brand</td>\n",
       "      <td>44.0</td>\n",
       "    </tr>\n",
       "    <tr>\n",
       "      <th>711</th>\n",
       "      <td>711</td>\n",
       "      <td>Google Land &amp; Sea French Terry Sweatshirt</td>\n",
       "      <td>Google</td>\n",
       "      <td>MD</td>\n",
       "      <td>Shop by Brand</td>\n",
       "      <td>44.0</td>\n",
       "    </tr>\n",
       "    <tr>\n",
       "      <th>758</th>\n",
       "      <td>758</td>\n",
       "      <td>Google Land &amp; Sea French Terry Sweatshirt</td>\n",
       "      <td>Google</td>\n",
       "      <td>2XL</td>\n",
       "      <td>Shop by Brand</td>\n",
       "      <td>55.0</td>\n",
       "    </tr>\n",
       "    <tr>\n",
       "      <th>809</th>\n",
       "      <td>809</td>\n",
       "      <td>Google Land &amp; Sea French Terry Sweatshirt</td>\n",
       "      <td>Google</td>\n",
       "      <td>SM</td>\n",
       "      <td>Shop by Brand</td>\n",
       "      <td>55.0</td>\n",
       "    </tr>\n",
       "    <tr>\n",
       "      <th>862</th>\n",
       "      <td>862</td>\n",
       "      <td>Google Land &amp; Sea French Terry Sweatshirt</td>\n",
       "      <td>Google</td>\n",
       "      <td>None</td>\n",
       "      <td>Shop by Brand</td>\n",
       "      <td>55.0</td>\n",
       "    </tr>\n",
       "    <tr>\n",
       "      <th>1109</th>\n",
       "      <td>1109</td>\n",
       "      <td>Google Land &amp; Sea French Terry Sweatshirt</td>\n",
       "      <td>Google</td>\n",
       "      <td>MD</td>\n",
       "      <td>Shop by Brand</td>\n",
       "      <td>55.0</td>\n",
       "    </tr>\n",
       "    <tr>\n",
       "      <th>1348</th>\n",
       "      <td>1348</td>\n",
       "      <td>Google Land &amp; Sea French Terry Sweatshirt</td>\n",
       "      <td>Google</td>\n",
       "      <td>None</td>\n",
       "      <td>Shop by Brand</td>\n",
       "      <td>55.0</td>\n",
       "    </tr>\n",
       "    <tr>\n",
       "      <th>1353</th>\n",
       "      <td>1353</td>\n",
       "      <td>Google Land &amp; Sea French Terry Sweatshirt</td>\n",
       "      <td>Google</td>\n",
       "      <td>No options available</td>\n",
       "      <td>Shop by Brand</td>\n",
       "      <td>55.0</td>\n",
       "    </tr>\n",
       "  </tbody>\n",
       "</table>\n",
       "</div>"
      ],
      "text/plain": [
       "        id                                       name   brand  \\\n",
       "89      89  Google Land & Sea French Terry Sweatshirt  Google   \n",
       "303    303  Google Land & Sea French Terry Sweatshirt  Google   \n",
       "518    518  Google Land & Sea French Terry Sweatshirt  Google   \n",
       "559    559  Google Land & Sea French Terry Sweatshirt  Google   \n",
       "560    560  Google Land & Sea French Terry Sweatshirt  Google   \n",
       "622    622  Google Land & Sea French Terry Sweatshirt  Google   \n",
       "706    706  Google Land & Sea French Terry Sweatshirt  Google   \n",
       "711    711  Google Land & Sea French Terry Sweatshirt  Google   \n",
       "758    758  Google Land & Sea French Terry Sweatshirt  Google   \n",
       "809    809  Google Land & Sea French Terry Sweatshirt  Google   \n",
       "862    862  Google Land & Sea French Terry Sweatshirt  Google   \n",
       "1109  1109  Google Land & Sea French Terry Sweatshirt  Google   \n",
       "1348  1348  Google Land & Sea French Terry Sweatshirt  Google   \n",
       "1353  1353  Google Land & Sea French Terry Sweatshirt  Google   \n",
       "\n",
       "                   variant       category  price_in_usd  \n",
       "89                      LG  Shop by Brand          44.0  \n",
       "303                    3XL  Shop by Brand          44.0  \n",
       "518                     XS  Shop by Brand          44.0  \n",
       "559                     XS  Shop by Brand          44.0  \n",
       "560                     XL  Shop by Brand          44.0  \n",
       "622                     XL  Shop by Brand          44.0  \n",
       "706                    2XL  Shop by Brand          44.0  \n",
       "711                     MD  Shop by Brand          44.0  \n",
       "758                    2XL  Shop by Brand          55.0  \n",
       "809                     SM  Shop by Brand          55.0  \n",
       "862                   None  Shop by Brand          55.0  \n",
       "1109                    MD  Shop by Brand          55.0  \n",
       "1348                  None  Shop by Brand          55.0  \n",
       "1353  No options available  Shop by Brand          55.0  "
      ]
     },
     "execution_count": 11,
     "metadata": {},
     "output_type": "execute_result"
    }
   ],
   "source": [
    "df_items.loc[df_items['name'] == 'Google Land & Sea French Terry Sweatshirt']"
   ]
  },
  {
   "cell_type": "markdown",
   "metadata": {},
   "source": [
    "Devido a eu não conhecer regras de negócio a respeito dessa base de dados, irei excluir o registro com id 1348 e, na tabela fato, substituir todas as ocorrências do id 1348 para o id 862, aproveitando que o valor unitário é o mesmo. Isso numa situação real de trabalho deve ser analisado com as pessoas do setor responsável para definir o que será feito e de que maneira será feito, pois pode ser que apenas tenham esquecido de preencher a coluna de variação ou qualquer outro tipo de erro comum que encontramos no dia a dia como Analista de Dados. A seguir irei fazer as alterações:\n",
    "\n",
    "OBS.: importante mencionar que essas alterações poderiam/deveriam ser feitas diretamente na view via SQL para que todas as outras pessoas pudessem consumir os dados reais, porém para que você leitor possa ter um melhor acompanhamento da minha linha de raciocínio e não precisar ir para um código SQL e voltar aqui para o Python novamente, irei realizar essas alterações diretamente aqui em Python."
   ]
  },
  {
   "cell_type": "code",
   "execution_count": 12,
   "metadata": {},
   "outputs": [],
   "source": [
    "## Preenchendo vazios com 'None'\n",
    "if 'variant' in df_items.columns:\n",
    "    df_items.loc[df_items['variant'] == \"\", 'variant'] = 'None'"
   ]
  },
  {
   "cell_type": "code",
   "execution_count": 13,
   "metadata": {},
   "outputs": [],
   "source": [
    "## Removendo a linha com id 1348 da base items\n",
    "df_items = df_items[df_items['id'] != 1348]"
   ]
  },
  {
   "cell_type": "markdown",
   "metadata": {},
   "source": [
    "Verificando se foi realmente removido"
   ]
  },
  {
   "cell_type": "code",
   "execution_count": 14,
   "metadata": {},
   "outputs": [
    {
     "data": {
      "text/html": [
       "<div>\n",
       "<style scoped>\n",
       "    .dataframe tbody tr th:only-of-type {\n",
       "        vertical-align: middle;\n",
       "    }\n",
       "\n",
       "    .dataframe tbody tr th {\n",
       "        vertical-align: top;\n",
       "    }\n",
       "\n",
       "    .dataframe thead th {\n",
       "        text-align: right;\n",
       "    }\n",
       "</style>\n",
       "<table border=\"1\" class=\"dataframe\">\n",
       "  <thead>\n",
       "    <tr style=\"text-align: right;\">\n",
       "      <th></th>\n",
       "      <th>id</th>\n",
       "      <th>name</th>\n",
       "      <th>brand</th>\n",
       "      <th>variant</th>\n",
       "      <th>category</th>\n",
       "      <th>price_in_usd</th>\n",
       "    </tr>\n",
       "  </thead>\n",
       "  <tbody>\n",
       "    <tr>\n",
       "      <th>89</th>\n",
       "      <td>89</td>\n",
       "      <td>Google Land &amp; Sea French Terry Sweatshirt</td>\n",
       "      <td>Google</td>\n",
       "      <td>LG</td>\n",
       "      <td>Shop by Brand</td>\n",
       "      <td>44.0</td>\n",
       "    </tr>\n",
       "    <tr>\n",
       "      <th>303</th>\n",
       "      <td>303</td>\n",
       "      <td>Google Land &amp; Sea French Terry Sweatshirt</td>\n",
       "      <td>Google</td>\n",
       "      <td>3XL</td>\n",
       "      <td>Shop by Brand</td>\n",
       "      <td>44.0</td>\n",
       "    </tr>\n",
       "    <tr>\n",
       "      <th>518</th>\n",
       "      <td>518</td>\n",
       "      <td>Google Land &amp; Sea French Terry Sweatshirt</td>\n",
       "      <td>Google</td>\n",
       "      <td>XS</td>\n",
       "      <td>Shop by Brand</td>\n",
       "      <td>44.0</td>\n",
       "    </tr>\n",
       "    <tr>\n",
       "      <th>559</th>\n",
       "      <td>559</td>\n",
       "      <td>Google Land &amp; Sea French Terry Sweatshirt</td>\n",
       "      <td>Google</td>\n",
       "      <td>XS</td>\n",
       "      <td>Shop by Brand</td>\n",
       "      <td>44.0</td>\n",
       "    </tr>\n",
       "    <tr>\n",
       "      <th>560</th>\n",
       "      <td>560</td>\n",
       "      <td>Google Land &amp; Sea French Terry Sweatshirt</td>\n",
       "      <td>Google</td>\n",
       "      <td>XL</td>\n",
       "      <td>Shop by Brand</td>\n",
       "      <td>44.0</td>\n",
       "    </tr>\n",
       "    <tr>\n",
       "      <th>622</th>\n",
       "      <td>622</td>\n",
       "      <td>Google Land &amp; Sea French Terry Sweatshirt</td>\n",
       "      <td>Google</td>\n",
       "      <td>XL</td>\n",
       "      <td>Shop by Brand</td>\n",
       "      <td>44.0</td>\n",
       "    </tr>\n",
       "    <tr>\n",
       "      <th>706</th>\n",
       "      <td>706</td>\n",
       "      <td>Google Land &amp; Sea French Terry Sweatshirt</td>\n",
       "      <td>Google</td>\n",
       "      <td>2XL</td>\n",
       "      <td>Shop by Brand</td>\n",
       "      <td>44.0</td>\n",
       "    </tr>\n",
       "    <tr>\n",
       "      <th>711</th>\n",
       "      <td>711</td>\n",
       "      <td>Google Land &amp; Sea French Terry Sweatshirt</td>\n",
       "      <td>Google</td>\n",
       "      <td>MD</td>\n",
       "      <td>Shop by Brand</td>\n",
       "      <td>44.0</td>\n",
       "    </tr>\n",
       "    <tr>\n",
       "      <th>758</th>\n",
       "      <td>758</td>\n",
       "      <td>Google Land &amp; Sea French Terry Sweatshirt</td>\n",
       "      <td>Google</td>\n",
       "      <td>2XL</td>\n",
       "      <td>Shop by Brand</td>\n",
       "      <td>55.0</td>\n",
       "    </tr>\n",
       "    <tr>\n",
       "      <th>809</th>\n",
       "      <td>809</td>\n",
       "      <td>Google Land &amp; Sea French Terry Sweatshirt</td>\n",
       "      <td>Google</td>\n",
       "      <td>SM</td>\n",
       "      <td>Shop by Brand</td>\n",
       "      <td>55.0</td>\n",
       "    </tr>\n",
       "    <tr>\n",
       "      <th>862</th>\n",
       "      <td>862</td>\n",
       "      <td>Google Land &amp; Sea French Terry Sweatshirt</td>\n",
       "      <td>Google</td>\n",
       "      <td>None</td>\n",
       "      <td>Shop by Brand</td>\n",
       "      <td>55.0</td>\n",
       "    </tr>\n",
       "    <tr>\n",
       "      <th>1109</th>\n",
       "      <td>1109</td>\n",
       "      <td>Google Land &amp; Sea French Terry Sweatshirt</td>\n",
       "      <td>Google</td>\n",
       "      <td>MD</td>\n",
       "      <td>Shop by Brand</td>\n",
       "      <td>55.0</td>\n",
       "    </tr>\n",
       "    <tr>\n",
       "      <th>1353</th>\n",
       "      <td>1353</td>\n",
       "      <td>Google Land &amp; Sea French Terry Sweatshirt</td>\n",
       "      <td>Google</td>\n",
       "      <td>No options available</td>\n",
       "      <td>Shop by Brand</td>\n",
       "      <td>55.0</td>\n",
       "    </tr>\n",
       "  </tbody>\n",
       "</table>\n",
       "</div>"
      ],
      "text/plain": [
       "        id                                       name   brand  \\\n",
       "89      89  Google Land & Sea French Terry Sweatshirt  Google   \n",
       "303    303  Google Land & Sea French Terry Sweatshirt  Google   \n",
       "518    518  Google Land & Sea French Terry Sweatshirt  Google   \n",
       "559    559  Google Land & Sea French Terry Sweatshirt  Google   \n",
       "560    560  Google Land & Sea French Terry Sweatshirt  Google   \n",
       "622    622  Google Land & Sea French Terry Sweatshirt  Google   \n",
       "706    706  Google Land & Sea French Terry Sweatshirt  Google   \n",
       "711    711  Google Land & Sea French Terry Sweatshirt  Google   \n",
       "758    758  Google Land & Sea French Terry Sweatshirt  Google   \n",
       "809    809  Google Land & Sea French Terry Sweatshirt  Google   \n",
       "862    862  Google Land & Sea French Terry Sweatshirt  Google   \n",
       "1109  1109  Google Land & Sea French Terry Sweatshirt  Google   \n",
       "1353  1353  Google Land & Sea French Terry Sweatshirt  Google   \n",
       "\n",
       "                   variant       category  price_in_usd  \n",
       "89                      LG  Shop by Brand          44.0  \n",
       "303                    3XL  Shop by Brand          44.0  \n",
       "518                     XS  Shop by Brand          44.0  \n",
       "559                     XS  Shop by Brand          44.0  \n",
       "560                     XL  Shop by Brand          44.0  \n",
       "622                     XL  Shop by Brand          44.0  \n",
       "706                    2XL  Shop by Brand          44.0  \n",
       "711                     MD  Shop by Brand          44.0  \n",
       "758                    2XL  Shop by Brand          55.0  \n",
       "809                     SM  Shop by Brand          55.0  \n",
       "862                   None  Shop by Brand          55.0  \n",
       "1109                    MD  Shop by Brand          55.0  \n",
       "1353  No options available  Shop by Brand          55.0  "
      ]
     },
     "execution_count": 14,
     "metadata": {},
     "output_type": "execute_result"
    }
   ],
   "source": [
    "df_items.loc[df_items['name'] == 'Google Land & Sea French Terry Sweatshirt']"
   ]
  },
  {
   "cell_type": "markdown",
   "metadata": {},
   "source": [
    "Agora vou substituir o id 1348 pelo 862 no df atribuido a tabela normalizada"
   ]
  },
  {
   "cell_type": "code",
   "execution_count": 15,
   "metadata": {},
   "outputs": [],
   "source": [
    "df_normal['item_id'] = df_normal['item_id'].replace(1348, 862)"
   ]
  },
  {
   "cell_type": "markdown",
   "metadata": {},
   "source": [
    "Verificando se funcionou"
   ]
  },
  {
   "cell_type": "code",
   "execution_count": 16,
   "metadata": {},
   "outputs": [
    {
     "data": {
      "text/html": [
       "<div>\n",
       "<style scoped>\n",
       "    .dataframe tbody tr th:only-of-type {\n",
       "        vertical-align: middle;\n",
       "    }\n",
       "\n",
       "    .dataframe tbody tr th {\n",
       "        vertical-align: top;\n",
       "    }\n",
       "\n",
       "    .dataframe thead th {\n",
       "        text-align: right;\n",
       "    }\n",
       "</style>\n",
       "<table border=\"1\" class=\"dataframe\">\n",
       "  <thead>\n",
       "    <tr style=\"text-align: right;\">\n",
       "      <th></th>\n",
       "      <th>user_id</th>\n",
       "      <th>user_country</th>\n",
       "      <th>user_device</th>\n",
       "      <th>life_time_value</th>\n",
       "      <th>first_purchase</th>\n",
       "      <th>order_id</th>\n",
       "      <th>item_id</th>\n",
       "      <th>item_name</th>\n",
       "      <th>brand</th>\n",
       "      <th>variant</th>\n",
       "      <th>category</th>\n",
       "      <th>price_in_usd</th>\n",
       "      <th>occurence</th>\n",
       "      <th>date</th>\n",
       "    </tr>\n",
       "  </thead>\n",
       "  <tbody>\n",
       "  </tbody>\n",
       "</table>\n",
       "</div>"
      ],
      "text/plain": [
       "Empty DataFrame\n",
       "Columns: [user_id, user_country, user_device, life_time_value, first_purchase, order_id, item_id, item_name, brand, variant, category, price_in_usd, occurence, date]\n",
       "Index: []"
      ]
     },
     "execution_count": 16,
     "metadata": {},
     "output_type": "execute_result"
    }
   ],
   "source": [
    "df_normal.loc[df_normal['item_id'] == 1348]"
   ]
  },
  {
   "cell_type": "markdown",
   "metadata": {},
   "source": [
    "### 2. Tabela users"
   ]
  },
  {
   "cell_type": "code",
   "execution_count": 17,
   "metadata": {},
   "outputs": [
    {
     "data": {
      "text/html": [
       "<div>\n",
       "<style scoped>\n",
       "    .dataframe tbody tr th:only-of-type {\n",
       "        vertical-align: middle;\n",
       "    }\n",
       "\n",
       "    .dataframe tbody tr th {\n",
       "        vertical-align: top;\n",
       "    }\n",
       "\n",
       "    .dataframe thead th {\n",
       "        text-align: right;\n",
       "    }\n",
       "</style>\n",
       "<table border=\"1\" class=\"dataframe\">\n",
       "  <thead>\n",
       "    <tr style=\"text-align: right;\">\n",
       "      <th></th>\n",
       "      <th>id</th>\n",
       "      <th>ltv</th>\n",
       "      <th>date</th>\n",
       "    </tr>\n",
       "  </thead>\n",
       "  <tbody>\n",
       "    <tr>\n",
       "      <th>0</th>\n",
       "      <td>0</td>\n",
       "      <td>0</td>\n",
       "      <td>2020-10-13 05:08:47.0000000</td>\n",
       "    </tr>\n",
       "    <tr>\n",
       "      <th>1</th>\n",
       "      <td>1</td>\n",
       "      <td>0</td>\n",
       "      <td>2020-11-24 14:26:54.0000000</td>\n",
       "    </tr>\n",
       "    <tr>\n",
       "      <th>2</th>\n",
       "      <td>2</td>\n",
       "      <td>0</td>\n",
       "      <td>2020-11-24 06:19:54.0000000</td>\n",
       "    </tr>\n",
       "    <tr>\n",
       "      <th>3</th>\n",
       "      <td>3</td>\n",
       "      <td>231</td>\n",
       "      <td>2020-05-02 11:09:15.0000000</td>\n",
       "    </tr>\n",
       "    <tr>\n",
       "      <th>4</th>\n",
       "      <td>4</td>\n",
       "      <td>102</td>\n",
       "      <td>2020-11-18 15:54:38.0000000</td>\n",
       "    </tr>\n",
       "  </tbody>\n",
       "</table>\n",
       "</div>"
      ],
      "text/plain": [
       "   id  ltv                         date\n",
       "0   0    0  2020-10-13 05:08:47.0000000\n",
       "1   1    0  2020-11-24 14:26:54.0000000\n",
       "2   2    0  2020-11-24 06:19:54.0000000\n",
       "3   3  231  2020-05-02 11:09:15.0000000\n",
       "4   4  102  2020-11-18 15:54:38.0000000"
      ]
     },
     "execution_count": 17,
     "metadata": {},
     "output_type": "execute_result"
    }
   ],
   "source": [
    "df_users.head()"
   ]
  },
  {
   "cell_type": "markdown",
   "metadata": {},
   "source": [
    "Verificando se há duplicidades na coluna id"
   ]
  },
  {
   "cell_type": "code",
   "execution_count": 18,
   "metadata": {},
   "outputs": [
    {
     "data": {
      "text/plain": [
       "False"
      ]
     },
     "execution_count": 18,
     "metadata": {},
     "output_type": "execute_result"
    }
   ],
   "source": [
    "df_users['id'].duplicated().any()"
   ]
  },
  {
   "cell_type": "markdown",
   "metadata": {},
   "source": [
    "Como não há mais o que validar nessa tabela além do id, vou seguir para responder as perguntas"
   ]
  },
  {
   "cell_type": "markdown",
   "metadata": {},
   "source": [
    "### 1. Quais dispositivos geram mais compras?"
   ]
  },
  {
   "cell_type": "markdown",
   "metadata": {},
   "source": [
    "Com o intuito de saber a QUANTIDADE de compras, foi necessário remover duplicidades pois a base normalizada é basicamente uma tabela fato e um mesmo pedido pode ter diversas linhas de ocorrencia."
   ]
  },
  {
   "cell_type": "code",
   "execution_count": 19,
   "metadata": {},
   "outputs": [
    {
     "data": {
      "text/html": [
       "<div>\n",
       "<style scoped>\n",
       "    .dataframe tbody tr th:only-of-type {\n",
       "        vertical-align: middle;\n",
       "    }\n",
       "\n",
       "    .dataframe tbody tr th {\n",
       "        vertical-align: top;\n",
       "    }\n",
       "\n",
       "    .dataframe thead th {\n",
       "        text-align: right;\n",
       "    }\n",
       "</style>\n",
       "<table border=\"1\" class=\"dataframe\">\n",
       "  <thead>\n",
       "    <tr style=\"text-align: right;\">\n",
       "      <th></th>\n",
       "      <th>Dispositivo</th>\n",
       "      <th>Qtd</th>\n",
       "    </tr>\n",
       "  </thead>\n",
       "  <tbody>\n",
       "    <tr>\n",
       "      <th>0</th>\n",
       "      <td>desktop</td>\n",
       "      <td>10451</td>\n",
       "    </tr>\n",
       "    <tr>\n",
       "      <th>1</th>\n",
       "      <td>mobile</td>\n",
       "      <td>7205</td>\n",
       "    </tr>\n",
       "    <tr>\n",
       "      <th>2</th>\n",
       "      <td>tablet</td>\n",
       "      <td>378</td>\n",
       "    </tr>\n",
       "  </tbody>\n",
       "</table>\n",
       "</div>"
      ],
      "text/plain": [
       "  Dispositivo    Qtd\n",
       "0     desktop  10451\n",
       "1      mobile   7205\n",
       "2      tablet    378"
      ]
     },
     "execution_count": 19,
     "metadata": {},
     "output_type": "execute_result"
    }
   ],
   "source": [
    "df_q1 = df_normal.copy()\n",
    "df_q1 = df_q1[['user_device', 'order_id']]\n",
    "df_q1 = df_q1.drop_duplicates(subset='order_id')\n",
    "df_q1 = df_q1.groupby('user_device').agg(\n",
    "    Qtd = ('order_id', 'count')\n",
    ").sort_values(by='Qtd', ascending=False).reset_index()\n",
    "df_q1 = df_q1.rename(columns={'user_device' : 'Dispositivo'})\n",
    "df_q1"
   ]
  },
  {
   "cell_type": "markdown",
   "metadata": {},
   "source": [
    "### 2. Quais países apresentam maior volume de vendas?\n",
    "\n",
    "Leia-se volume de vendas por quantidade de itens comprados"
   ]
  },
  {
   "cell_type": "code",
   "execution_count": 20,
   "metadata": {},
   "outputs": [
    {
     "data": {
      "text/html": [
       "<div>\n",
       "<style scoped>\n",
       "    .dataframe tbody tr th:only-of-type {\n",
       "        vertical-align: middle;\n",
       "    }\n",
       "\n",
       "    .dataframe tbody tr th {\n",
       "        vertical-align: top;\n",
       "    }\n",
       "\n",
       "    .dataframe thead th {\n",
       "        text-align: right;\n",
       "    }\n",
       "</style>\n",
       "<table border=\"1\" class=\"dataframe\">\n",
       "  <thead>\n",
       "    <tr style=\"text-align: right;\">\n",
       "      <th></th>\n",
       "      <th>País</th>\n",
       "      <th>Qtd</th>\n",
       "    </tr>\n",
       "  </thead>\n",
       "  <tbody>\n",
       "    <tr>\n",
       "      <th>0</th>\n",
       "      <td>US</td>\n",
       "      <td>337513</td>\n",
       "    </tr>\n",
       "    <tr>\n",
       "      <th>1</th>\n",
       "      <td>IN</td>\n",
       "      <td>68392</td>\n",
       "    </tr>\n",
       "    <tr>\n",
       "      <th>2</th>\n",
       "      <td>CA</td>\n",
       "      <td>61126</td>\n",
       "    </tr>\n",
       "    <tr>\n",
       "      <th>3</th>\n",
       "      <td>GB</td>\n",
       "      <td>23128</td>\n",
       "    </tr>\n",
       "    <tr>\n",
       "      <th>4</th>\n",
       "      <td>ES</td>\n",
       "      <td>16191</td>\n",
       "    </tr>\n",
       "    <tr>\n",
       "      <th>5</th>\n",
       "      <td>FR</td>\n",
       "      <td>14650</td>\n",
       "    </tr>\n",
       "    <tr>\n",
       "      <th>6</th>\n",
       "      <td>CN</td>\n",
       "      <td>13772</td>\n",
       "    </tr>\n",
       "    <tr>\n",
       "      <th>7</th>\n",
       "      <td>TW</td>\n",
       "      <td>12330</td>\n",
       "    </tr>\n",
       "    <tr>\n",
       "      <th>8</th>\n",
       "      <td>DE</td>\n",
       "      <td>11630</td>\n",
       "    </tr>\n",
       "    <tr>\n",
       "      <th>9</th>\n",
       "      <td>IT</td>\n",
       "      <td>11629</td>\n",
       "    </tr>\n",
       "  </tbody>\n",
       "</table>\n",
       "</div>"
      ],
      "text/plain": [
       "  País     Qtd\n",
       "0   US  337513\n",
       "1   IN   68392\n",
       "2   CA   61126\n",
       "3   GB   23128\n",
       "4   ES   16191\n",
       "5   FR   14650\n",
       "6   CN   13772\n",
       "7   TW   12330\n",
       "8   DE   11630\n",
       "9   IT   11629"
      ]
     },
     "execution_count": 20,
     "metadata": {},
     "output_type": "execute_result"
    }
   ],
   "source": [
    "df_q2 = df_normal.copy()\n",
    "df_q2 = df_q2[['item_name', 'user_country']]\n",
    "df_q2 = df_q2.groupby('user_country').agg(\n",
    "    Qtd=('item_name', 'count')\n",
    ").sort_values(by='Qtd', ascending=False).head(10).reset_index()\n",
    "df_q2 = df_q2.rename(columns={'user_country' : 'País'})\n",
    "df_q2"
   ]
  },
  {
   "cell_type": "markdown",
   "metadata": {},
   "source": [
    "### 3. Quais produtos são os mais comprados e em quais categorias eles estão?"
   ]
  },
  {
   "cell_type": "code",
   "execution_count": 21,
   "metadata": {},
   "outputs": [
    {
     "data": {
      "text/html": [
       "<div>\n",
       "<style scoped>\n",
       "    .dataframe tbody tr th:only-of-type {\n",
       "        vertical-align: middle;\n",
       "    }\n",
       "\n",
       "    .dataframe tbody tr th {\n",
       "        vertical-align: top;\n",
       "    }\n",
       "\n",
       "    .dataframe thead th {\n",
       "        text-align: right;\n",
       "    }\n",
       "</style>\n",
       "<table border=\"1\" class=\"dataframe\">\n",
       "  <thead>\n",
       "    <tr style=\"text-align: right;\">\n",
       "      <th></th>\n",
       "      <th>Categoria</th>\n",
       "      <th>Item</th>\n",
       "      <th>Qtd_Vendas</th>\n",
       "    </tr>\n",
       "  </thead>\n",
       "  <tbody>\n",
       "    <tr>\n",
       "      <th>0</th>\n",
       "      <td>Apparel</td>\n",
       "      <td>Google Navy Speckled Tee</td>\n",
       "      <td>14713</td>\n",
       "    </tr>\n",
       "    <tr>\n",
       "      <th>1</th>\n",
       "      <td>Shop by Brand</td>\n",
       "      <td>Super G Unisex Joggers</td>\n",
       "      <td>13485</td>\n",
       "    </tr>\n",
       "    <tr>\n",
       "      <th>2</th>\n",
       "      <td>Accessories</td>\n",
       "      <td>Android SM S/F18 Sticker Sheet</td>\n",
       "      <td>10997</td>\n",
       "    </tr>\n",
       "    <tr>\n",
       "      <th>3</th>\n",
       "      <td>Lifestyle</td>\n",
       "      <td>Google Small Standard Journal Navy</td>\n",
       "      <td>9677</td>\n",
       "    </tr>\n",
       "    <tr>\n",
       "      <th>4</th>\n",
       "      <td>Clearance</td>\n",
       "      <td>Google Tee Yellow</td>\n",
       "      <td>9284</td>\n",
       "    </tr>\n",
       "    <tr>\n",
       "      <th>5</th>\n",
       "      <td>Notebooks &amp; Journals</td>\n",
       "      <td>Android Large Trace Journal Black</td>\n",
       "      <td>8705</td>\n",
       "    </tr>\n",
       "    <tr>\n",
       "      <th>6</th>\n",
       "      <td>Uncategorized Items</td>\n",
       "      <td>YouTube Women's Favorite Tee White</td>\n",
       "      <td>7921</td>\n",
       "    </tr>\n",
       "    <tr>\n",
       "      <th>7</th>\n",
       "      <td>New</td>\n",
       "      <td>Google Heathered Pom Beanie</td>\n",
       "      <td>6970</td>\n",
       "    </tr>\n",
       "    <tr>\n",
       "      <th>8</th>\n",
       "      <td>Bags</td>\n",
       "      <td>Google Utility Bag Grey</td>\n",
       "      <td>4711</td>\n",
       "    </tr>\n",
       "    <tr>\n",
       "      <th>9</th>\n",
       "      <td>Office</td>\n",
       "      <td>Keyboard DOT Sticker</td>\n",
       "      <td>3869</td>\n",
       "    </tr>\n",
       "    <tr>\n",
       "      <th>10</th>\n",
       "      <td>Drinkware</td>\n",
       "      <td>Google Land &amp; Sea Nalgene Water Bottle</td>\n",
       "      <td>3829</td>\n",
       "    </tr>\n",
       "    <tr>\n",
       "      <th>11</th>\n",
       "      <td>Google</td>\n",
       "      <td>Google Laptop and Cell Phone Stickers</td>\n",
       "      <td>3302</td>\n",
       "    </tr>\n",
       "    <tr>\n",
       "      <th>12</th>\n",
       "      <td>Campus Collection</td>\n",
       "      <td>Google NYC Campus Sticker</td>\n",
       "      <td>2997</td>\n",
       "    </tr>\n",
       "    <tr>\n",
       "      <th>13</th>\n",
       "      <td>Small Goods</td>\n",
       "      <td>Google Phone Stand Bamboo</td>\n",
       "      <td>2903</td>\n",
       "    </tr>\n",
       "    <tr>\n",
       "      <th>14</th>\n",
       "      <td>Writing Instruments</td>\n",
       "      <td>Google Light Pen Blue</td>\n",
       "      <td>2727</td>\n",
       "    </tr>\n",
       "    <tr>\n",
       "      <th>15</th>\n",
       "      <td>Electronics Accessories</td>\n",
       "      <td>Google See-No Hear-No Set</td>\n",
       "      <td>2234</td>\n",
       "    </tr>\n",
       "    <tr>\n",
       "      <th>16</th>\n",
       "      <td>Stationery</td>\n",
       "      <td>Google Decal</td>\n",
       "      <td>1567</td>\n",
       "    </tr>\n",
       "    <tr>\n",
       "      <th>17</th>\n",
       "      <td>Fun</td>\n",
       "      <td>Google Mini Kick Ball</td>\n",
       "      <td>1174</td>\n",
       "    </tr>\n",
       "    <tr>\n",
       "      <th>18</th>\n",
       "      <td>Eco-Friendly</td>\n",
       "      <td>Supernatural Paper Lunch Sack</td>\n",
       "      <td>565</td>\n",
       "    </tr>\n",
       "    <tr>\n",
       "      <th>19</th>\n",
       "      <td>Gift Cards</td>\n",
       "      <td>Gift Card - $25.00</td>\n",
       "      <td>265</td>\n",
       "    </tr>\n",
       "    <tr>\n",
       "      <th>20</th>\n",
       "      <td>Black Lives Matter</td>\n",
       "      <td>BLM Unisex Pullover Hoodie</td>\n",
       "      <td>19</td>\n",
       "    </tr>\n",
       "  </tbody>\n",
       "</table>\n",
       "</div>"
      ],
      "text/plain": [
       "                  Categoria                                    Item  \\\n",
       "0                   Apparel                Google Navy Speckled Tee   \n",
       "1             Shop by Brand                  Super G Unisex Joggers   \n",
       "2               Accessories          Android SM S/F18 Sticker Sheet   \n",
       "3                 Lifestyle      Google Small Standard Journal Navy   \n",
       "4                 Clearance                       Google Tee Yellow   \n",
       "5      Notebooks & Journals       Android Large Trace Journal Black   \n",
       "6       Uncategorized Items      YouTube Women's Favorite Tee White   \n",
       "7                       New             Google Heathered Pom Beanie   \n",
       "8                      Bags                 Google Utility Bag Grey   \n",
       "9                    Office                    Keyboard DOT Sticker   \n",
       "10                Drinkware  Google Land & Sea Nalgene Water Bottle   \n",
       "11                   Google   Google Laptop and Cell Phone Stickers   \n",
       "12        Campus Collection               Google NYC Campus Sticker   \n",
       "13              Small Goods               Google Phone Stand Bamboo   \n",
       "14      Writing Instruments                   Google Light Pen Blue   \n",
       "15  Electronics Accessories               Google See-No Hear-No Set   \n",
       "16               Stationery                            Google Decal   \n",
       "17                      Fun                   Google Mini Kick Ball   \n",
       "18             Eco-Friendly           Supernatural Paper Lunch Sack   \n",
       "19               Gift Cards                      Gift Card - $25.00   \n",
       "20       Black Lives Matter              BLM Unisex Pullover Hoodie   \n",
       "\n",
       "    Qtd_Vendas  \n",
       "0        14713  \n",
       "1        13485  \n",
       "2        10997  \n",
       "3         9677  \n",
       "4         9284  \n",
       "5         8705  \n",
       "6         7921  \n",
       "7         6970  \n",
       "8         4711  \n",
       "9         3869  \n",
       "10        3829  \n",
       "11        3302  \n",
       "12        2997  \n",
       "13        2903  \n",
       "14        2727  \n",
       "15        2234  \n",
       "16        1567  \n",
       "17        1174  \n",
       "18         565  \n",
       "19         265  \n",
       "20          19  "
      ]
     },
     "execution_count": 21,
     "metadata": {},
     "output_type": "execute_result"
    }
   ],
   "source": [
    "df_q3 = df_normal[['item_name', 'category']].copy()\n",
    "df_q3 = df_q3.groupby(['category', 'item_name']).size().reset_index(name='Qtd_Vendas')\n",
    "df_q3 = df_q3.loc[df_q3.groupby('category')['Qtd_Vendas'].idxmax()]\n",
    "df_q3 = df_q3.sort_values(by='Qtd_Vendas', ascending=False).reset_index(drop=True)\n",
    "df_q3 = df_q3.rename(columns={\n",
    "    'category' : 'Categoria',\n",
    "    'item_name' : 'Item'\n",
    "})\n",
    "df_q3"
   ]
  },
  {
   "cell_type": "markdown",
   "metadata": {},
   "source": [
    "### 4. Como o preço de um produto influencia sua taxa de vendas?"
   ]
  },
  {
   "cell_type": "markdown",
   "metadata": {},
   "source": [
    "Criando uma coluna chamada 'qtd_vendas' e atribuindo 1 para cada linha, pois cada linha representa uma venda"
   ]
  },
  {
   "cell_type": "code",
   "execution_count": 22,
   "metadata": {},
   "outputs": [],
   "source": [
    "df_q4 = df_normal.copy()\n",
    "df_q4 = df_q4[df_q4['occurence'] == 'purchase']\n",
    "df_q4['qtd_vendas'] = 1"
   ]
  },
  {
   "cell_type": "markdown",
   "metadata": {},
   "source": [
    "Selecionando as colunas necessárias"
   ]
  },
  {
   "cell_type": "code",
   "execution_count": 23,
   "metadata": {},
   "outputs": [],
   "source": [
    "df_q4 = df_q4[['item_name', 'item_id', 'qtd_vendas', 'price_in_usd']]"
   ]
  },
  {
   "cell_type": "markdown",
   "metadata": {},
   "source": [
    "Agrupando por item_name e item_id"
   ]
  },
  {
   "cell_type": "code",
   "execution_count": 24,
   "metadata": {},
   "outputs": [],
   "source": [
    "df_q4 = df_q4.groupby(['item_name', 'item_id']).agg({\n",
    "    'price_in_usd' : 'mean',\n",
    "    'qtd_vendas' : 'sum'\n",
    "})"
   ]
  },
  {
   "cell_type": "markdown",
   "metadata": {},
   "source": [
    "<!-- Realizando uma análise fria, é possível ver que não existe uma correlação ou ela é muito fraca, porém vou separar os valores por range e então realizar novamente -->"
   ]
  },
  {
   "cell_type": "markdown",
   "metadata": {},
   "source": [
    "Plotando o gráfico"
   ]
  },
  {
   "cell_type": "code",
   "execution_count": 25,
   "metadata": {},
   "outputs": [
    {
     "data": {
      "text/plain": [
       "Text(0.5, 1.0, 'Quantidade de Vendas por Preço Unitário')"
      ]
     },
     "execution_count": 25,
     "metadata": {},
     "output_type": "execute_result"
    },
    {
     "data": {
      "image/png": "[encoded data removed]",
      "text/plain": [
       "<Figure size 640x480 with 1 Axes>"
      ]
     },
     "metadata": {},
     "output_type": "display_data"
    }
   ],
   "source": [
    "plt.scatter(df_q4['price_in_usd'], df_q4['qtd_vendas'])\n",
    "plt.xlabel('Preço em USD')\n",
    "plt.ylabel('Qtd de Vendas')\n",
    "plt.title('Quantidade de Vendas por Preço Unitário')"
   ]
  },
  {
   "cell_type": "markdown",
   "metadata": {},
   "source": [
    "Podemos ver que existe uma maior concentração de vendas em produtos até $40, para tornar isso mais claro, irei criar ranges (faixas de preço) para ter o gráfico mais limpo e uma visão mais clara."
   ]
  },
  {
   "cell_type": "markdown",
   "metadata": {},
   "source": [
    "Vou verificar o valor máximo e mínimo nessa base de dados"
   ]
  },
  {
   "cell_type": "code",
   "execution_count": 26,
   "metadata": {},
   "outputs": [
    {
     "data": {
      "text/plain": [
       "count    809.000000\n",
       "mean      25.105068\n",
       "std       21.065083\n",
       "min        1.000000\n",
       "25%       13.000000\n",
       "50%       18.000000\n",
       "75%       32.000000\n",
       "max      120.000000\n",
       "Name: price_in_usd, dtype: float64"
      ]
     },
     "execution_count": 26,
     "metadata": {},
     "output_type": "execute_result"
    }
   ],
   "source": [
    "df_q4['price_in_usd'].describe()"
   ]
  },
  {
   "cell_type": "markdown",
   "metadata": {},
   "source": [
    "Agora irei criar o range"
   ]
  },
  {
   "cell_type": "code",
   "execution_count": 27,
   "metadata": {},
   "outputs": [],
   "source": [
    "df_q4['price_range'] = pd.cut(df_q4['price_in_usd'], bins = [1, 50, 150, 250, 313],\n",
    "                              labels=['$1-50', '$51-150', '$151-250', '$250+'])"
   ]
  },
  {
   "cell_type": "markdown",
   "metadata": {},
   "source": [
    "Abaixo agruparei os dados pela faixa de preço, somando a quantidade de vendas"
   ]
  },
  {
   "cell_type": "code",
   "execution_count": 28,
   "metadata": {},
   "outputs": [],
   "source": [
    "df_q4 = df_q4[['price_range', 'qtd_vendas']]\n",
    "\n",
    "df_q4 = df_q4.groupby('price_range').agg({\n",
    "    'qtd_vendas' : 'sum'\n",
    "}).reset_index()\n",
    " "
   ]
  },
  {
   "cell_type": "markdown",
   "metadata": {},
   "source": [
    "Plotando o gráfico"
   ]
  },
  {
   "cell_type": "code",
   "execution_count": 29,
   "metadata": {},
   "outputs": [
    {
     "data": {
      "text/plain": [
       "Text(0.5, 1.0, 'Quantidade de vendas por Faixa de Preço')"
      ]
     },
     "execution_count": 29,
     "metadata": {},
     "output_type": "execute_result"
    },
    {
     "data": {
      "image/png": "[encoded data removed]",
      "text/plain": [
       "<Figure size 640x480 with 1 Axes>"
      ]
     },
     "metadata": {},
     "output_type": "display_data"
    }
   ],
   "source": [
    "plt.scatter(df_q4['price_range'], df_q4['qtd_vendas'])\n",
    "plt.xlabel('Faixa de Preço em USD')\n",
    "plt.ylabel('Qtd de Vendas')\n",
    "plt.title('Quantidade de vendas por Faixa de Preço')"
   ]
  },
  {
   "cell_type": "markdown",
   "metadata": {},
   "source": [
    "Dessa forma ficou mais claro que, quanto mais baixo o valor dos produtos maior é a quantidade de vendas, sobretudo na nas faixas entre $1 e $150.\n",
    "\n",
    "Portanto sim, o valor do produto influência na sua taxa de vendas."
   ]
  },
  {
   "cell_type": "markdown",
   "metadata": {},
   "source": [
    "### 5. Quais são os produtos mais adicionados ao carrinho, mas não comprados?"
   ]
  },
  {
   "cell_type": "markdown",
   "metadata": {},
   "source": [
    "Criando um df para todos os itens adicionados ao carrinho"
   ]
  },
  {
   "cell_type": "code",
   "execution_count": 30,
   "metadata": {},
   "outputs": [],
   "source": [
    "df_carrinho = df_normal.loc[(df_normal['occurence'] == 'add_to_cart')]"
   ]
  },
  {
   "cell_type": "markdown",
   "metadata": {},
   "source": [
    "Criando um operador único com 3 colunas concatenadas"
   ]
  },
  {
   "cell_type": "code",
   "execution_count": 31,
   "metadata": {},
   "outputs": [],
   "source": [
    "df_carrinho['occurence_id'] = df_carrinho['user_id'].astype(str) + \".\" + df_carrinho['order_id'].astype(str) + \".\" + df_carrinho['item_id'].astype(str)"
   ]
  },
  {
   "cell_type": "markdown",
   "metadata": {},
   "source": [
    "Definindo apenas as colunas necessárias"
   ]
  },
  {
   "cell_type": "code",
   "execution_count": 32,
   "metadata": {},
   "outputs": [],
   "source": [
    "df_carrinho = df_carrinho[['item_id', 'item_name', 'occurence_id', 'occurence']]"
   ]
  },
  {
   "cell_type": "markdown",
   "metadata": {},
   "source": [
    "Agora, defini um dataframe para apenas os itens que foram de fato comprados"
   ]
  },
  {
   "cell_type": "code",
   "execution_count": 33,
   "metadata": {},
   "outputs": [],
   "source": [
    "df_comprados = df_normal.loc[(df_normal['occurence'] == 'purchase')]"
   ]
  },
  {
   "cell_type": "markdown",
   "metadata": {},
   "source": [
    "Criando um operador único da mesma maneira que no df_carrinho"
   ]
  },
  {
   "cell_type": "code",
   "execution_count": 34,
   "metadata": {},
   "outputs": [],
   "source": [
    "df_comprados['occurence_id'] = df_comprados['user_id'].astype(str) + \".\" + df_comprados['order_id'].astype(str) + \".\" + df_comprados['item_id'].astype(str)"
   ]
  },
  {
   "cell_type": "markdown",
   "metadata": {},
   "source": [
    "Selecionando as colunas desejadas"
   ]
  },
  {
   "cell_type": "code",
   "execution_count": 35,
   "metadata": {},
   "outputs": [],
   "source": [
    "df_comprados = df_comprados[['item_id', 'item_name', 'occurence_id', 'occurence']]"
   ]
  },
  {
   "cell_type": "markdown",
   "metadata": {},
   "source": [
    "Criando uma coluna chamada Status e preenchendo todas as linhas com \"Comprado\""
   ]
  },
  {
   "cell_type": "code",
   "execution_count": 36,
   "metadata": {},
   "outputs": [],
   "source": [
    "df_comprados['Status'] = 'Comprado'"
   ]
  },
  {
   "cell_type": "markdown",
   "metadata": {},
   "source": [
    "Removendo duplicadas utilizando a coluna occurence_id"
   ]
  },
  {
   "cell_type": "code",
   "execution_count": 37,
   "metadata": {},
   "outputs": [],
   "source": [
    "df_comprados = df_comprados.drop_duplicates(subset='occurence_id')"
   ]
  },
  {
   "cell_type": "markdown",
   "metadata": {},
   "source": [
    "Realizando um merge entre os df's, para que dessa forma seja possível saber quais ocorrências estiveram no carrinho e foram de fato compradas"
   ]
  },
  {
   "cell_type": "code",
   "execution_count": 38,
   "metadata": {},
   "outputs": [],
   "source": [
    "df_q5 = df_carrinho.merge(df_comprados[['occurence_id', 'Status']], on='occurence_id', how='left')"
   ]
  },
  {
   "cell_type": "markdown",
   "metadata": {},
   "source": [
    "Preenchendo as linhas vazias da coluna 'Status' com 'Não comprado', para poder saber quais itens estiveram no carrinho mas não foram comprados"
   ]
  },
  {
   "cell_type": "code",
   "execution_count": 39,
   "metadata": {},
   "outputs": [],
   "source": [
    "df_q5['Status'] = df_q5['Status'].fillna('Não comprado')"
   ]
  },
  {
   "cell_type": "markdown",
   "metadata": {},
   "source": [
    "Filtrando para manter apenas os itens que não foram comprados"
   ]
  },
  {
   "cell_type": "code",
   "execution_count": 40,
   "metadata": {},
   "outputs": [],
   "source": [
    "df_q5 = df_q5[df_q5['Status'] == 'Não comprado']"
   ]
  },
  {
   "cell_type": "markdown",
   "metadata": {},
   "source": [
    "Criando uma coluna de quantidade e atribuindo 1 para todas as linhas"
   ]
  },
  {
   "cell_type": "code",
   "execution_count": 41,
   "metadata": {},
   "outputs": [],
   "source": [
    "df_q5['Qtd'] = 1"
   ]
  },
  {
   "cell_type": "markdown",
   "metadata": {},
   "source": [
    "Agrupando os dados por item_name"
   ]
  },
  {
   "cell_type": "code",
   "execution_count": 42,
   "metadata": {},
   "outputs": [],
   "source": [
    "df_q5 = df_q5.groupby(['item_name']).agg({\n",
    "    'Qtd' : 'sum'\n",
    "}).reset_index().sort_values(by='Qtd', ascending=False)"
   ]
  },
  {
   "cell_type": "markdown",
   "metadata": {},
   "source": [
    "Renomeando coluna"
   ]
  },
  {
   "cell_type": "code",
   "execution_count": 43,
   "metadata": {},
   "outputs": [],
   "source": [
    "df_q5 = df_q5.rename(columns={\n",
    "    'item_name' : 'Item'\n",
    "})"
   ]
  },
  {
   "cell_type": "markdown",
   "metadata": {},
   "source": [
    "Obtendo o resultado dos 10 itens que mais estiveram no carrinho e não tiveram a compra concluída"
   ]
  },
  {
   "cell_type": "code",
   "execution_count": 44,
   "metadata": {},
   "outputs": [
    {
     "data": {
      "text/html": [
       "<div>\n",
       "<style scoped>\n",
       "    .dataframe tbody tr th:only-of-type {\n",
       "        vertical-align: middle;\n",
       "    }\n",
       "\n",
       "    .dataframe tbody tr th {\n",
       "        vertical-align: top;\n",
       "    }\n",
       "\n",
       "    .dataframe thead th {\n",
       "        text-align: right;\n",
       "    }\n",
       "</style>\n",
       "<table border=\"1\" class=\"dataframe\">\n",
       "  <thead>\n",
       "    <tr style=\"text-align: right;\">\n",
       "      <th></th>\n",
       "      <th>Item</th>\n",
       "      <th>Qtd</th>\n",
       "    </tr>\n",
       "  </thead>\n",
       "  <tbody>\n",
       "    <tr>\n",
       "      <th>260</th>\n",
       "      <td>Google Navy Speckled Tee</td>\n",
       "      <td>14094</td>\n",
       "    </tr>\n",
       "    <tr>\n",
       "      <th>379</th>\n",
       "      <td>Google Zip Hoodie F/C</td>\n",
       "      <td>13011</td>\n",
       "    </tr>\n",
       "    <tr>\n",
       "      <th>392</th>\n",
       "      <td>Super G Unisex Joggers</td>\n",
       "      <td>12015</td>\n",
       "    </tr>\n",
       "    <tr>\n",
       "      <th>365</th>\n",
       "      <td>Google Women's Striped L/S</td>\n",
       "      <td>11847</td>\n",
       "    </tr>\n",
       "    <tr>\n",
       "      <th>107</th>\n",
       "      <td>Google Campus Bike Eco Tee Navy</td>\n",
       "      <td>11631</td>\n",
       "    </tr>\n",
       "    <tr>\n",
       "      <th>148</th>\n",
       "      <td>Google Crewneck Sweatshirt Navy</td>\n",
       "      <td>10631</td>\n",
       "    </tr>\n",
       "    <tr>\n",
       "      <th>30</th>\n",
       "      <td>Android Large Removable Sticker Sheet</td>\n",
       "      <td>10366</td>\n",
       "    </tr>\n",
       "    <tr>\n",
       "      <th>42</th>\n",
       "      <td>Android SM S/F18 Sticker Sheet</td>\n",
       "      <td>10269</td>\n",
       "    </tr>\n",
       "    <tr>\n",
       "      <th>69</th>\n",
       "      <td>Google Badge Heavyweight Pullover Black</td>\n",
       "      <td>10139</td>\n",
       "    </tr>\n",
       "    <tr>\n",
       "      <th>156</th>\n",
       "      <td>Google F/C Long Sleeve Tee Charcoal</td>\n",
       "      <td>9551</td>\n",
       "    </tr>\n",
       "  </tbody>\n",
       "</table>\n",
       "</div>"
      ],
      "text/plain": [
       "                                        Item    Qtd\n",
       "260                 Google Navy Speckled Tee  14094\n",
       "379                    Google Zip Hoodie F/C  13011\n",
       "392                   Super G Unisex Joggers  12015\n",
       "365               Google Women's Striped L/S  11847\n",
       "107          Google Campus Bike Eco Tee Navy  11631\n",
       "148          Google Crewneck Sweatshirt Navy  10631\n",
       "30     Android Large Removable Sticker Sheet  10366\n",
       "42            Android SM S/F18 Sticker Sheet  10269\n",
       "69   Google Badge Heavyweight Pullover Black  10139\n",
       "156      Google F/C Long Sleeve Tee Charcoal   9551"
      ]
     },
     "execution_count": 44,
     "metadata": {},
     "output_type": "execute_result"
    }
   ],
   "source": [
    "df_q5[['Item', 'Qtd']].head(10)"
   ]
  },
  {
   "cell_type": "markdown",
   "metadata": {},
   "source": [
    "Com isso, temos a relação dos itens que as pessoas mais desistiram de comprar (estiveram no carrinho mas não foram comprados)"
   ]
  },
  {
   "cell_type": "markdown",
   "metadata": {},
   "source": [
    "### 6. Em quais meses, dias e horários as compras ocorrem com maior frequência?"
   ]
  },
  {
   "cell_type": "markdown",
   "metadata": {},
   "source": [
    "Fazendo uma cópia do df original"
   ]
  },
  {
   "cell_type": "code",
   "execution_count": 45,
   "metadata": {},
   "outputs": [],
   "source": [
    "df_q6 = df_normal.copy()"
   ]
  },
  {
   "cell_type": "markdown",
   "metadata": {},
   "source": [
    "Realizando filtros "
   ]
  },
  {
   "cell_type": "code",
   "execution_count": 46,
   "metadata": {},
   "outputs": [],
   "source": [
    "df_q6 = df_q6[['order_id', 'item_id', 'occurence', 'date']]\n",
    "df_q6 = df_q6[df_q6['occurence'] == 'purchase']"
   ]
  },
  {
   "cell_type": "markdown",
   "metadata": {},
   "source": [
    "Criando uma coluna chamada Dia e extraindo o dia da coluna date"
   ]
  },
  {
   "cell_type": "code",
   "execution_count": 47,
   "metadata": {},
   "outputs": [],
   "source": [
    "df_q6['Dia'] = df_normal['date']\n",
    "df_q6['Dia'] = pd.to_datetime(df_q6['Dia'])\n",
    "df_q6['Dia'] = df_q6['Dia'].dt.day"
   ]
  },
  {
   "cell_type": "markdown",
   "metadata": {},
   "source": [
    "Criando uma coluna chamada Mes e extraindo o mes da coluna date"
   ]
  },
  {
   "cell_type": "code",
   "execution_count": 48,
   "metadata": {},
   "outputs": [],
   "source": [
    "df_q6['Mes'] = df_normal['date']\n",
    "df_q6['Mes'] = pd.to_datetime(df_q6['Mes'])\n",
    "df_q6['Mes'] = df_q6['Mes'].dt.month"
   ]
  },
  {
   "cell_type": "markdown",
   "metadata": {},
   "source": [
    "Criando uma coluna chamada Ano e extraindo o ano da coluna date"
   ]
  },
  {
   "cell_type": "code",
   "execution_count": 49,
   "metadata": {},
   "outputs": [],
   "source": [
    "df_q6['Hora'] = df_normal['date']\n",
    "df_q6['Hora'] = pd.to_datetime(df_q6['Hora'])\n",
    "df_q6['Hora'] = df_q6['Hora'].dt.hour"
   ]
  },
  {
   "cell_type": "markdown",
   "metadata": {},
   "source": [
    "Atribuindo qtd = 1 para todas as linhas"
   ]
  },
  {
   "cell_type": "code",
   "execution_count": 50,
   "metadata": {},
   "outputs": [],
   "source": [
    "df_q6['Qtd'] = 1"
   ]
  },
  {
   "cell_type": "markdown",
   "metadata": {},
   "source": [
    "A partir daqui, para cada df_q6_x fiz as mesmas coisas, agrupei pelo dia, mes ou hora e verifiquei onde teve maior concentração de compras"
   ]
  },
  {
   "cell_type": "code",
   "execution_count": 51,
   "metadata": {},
   "outputs": [],
   "source": [
    "df_q6_1 = df_q6.groupby(['Dia']).agg({\n",
    "    'Qtd' : 'sum'\n",
    "}).reset_index().sort_values(by='Qtd', ascending=False)"
   ]
  },
  {
   "cell_type": "code",
   "execution_count": 52,
   "metadata": {},
   "outputs": [
    {
     "data": {
      "text/html": [
       "<div>\n",
       "<style scoped>\n",
       "    .dataframe tbody tr th:only-of-type {\n",
       "        vertical-align: middle;\n",
       "    }\n",
       "\n",
       "    .dataframe tbody tr th {\n",
       "        vertical-align: top;\n",
       "    }\n",
       "\n",
       "    .dataframe thead th {\n",
       "        text-align: right;\n",
       "    }\n",
       "</style>\n",
       "<table border=\"1\" class=\"dataframe\">\n",
       "  <thead>\n",
       "    <tr style=\"text-align: right;\">\n",
       "      <th></th>\n",
       "      <th>Dia</th>\n",
       "      <th>Qtd</th>\n",
       "    </tr>\n",
       "  </thead>\n",
       "  <tbody>\n",
       "    <tr>\n",
       "      <th>0</th>\n",
       "      <td>20</td>\n",
       "      <td>741</td>\n",
       "    </tr>\n",
       "    <tr>\n",
       "      <th>1</th>\n",
       "      <td>16</td>\n",
       "      <td>740</td>\n",
       "    </tr>\n",
       "    <tr>\n",
       "      <th>2</th>\n",
       "      <td>11</td>\n",
       "      <td>725</td>\n",
       "    </tr>\n",
       "    <tr>\n",
       "      <th>3</th>\n",
       "      <td>23</td>\n",
       "      <td>720</td>\n",
       "    </tr>\n",
       "    <tr>\n",
       "      <th>4</th>\n",
       "      <td>9</td>\n",
       "      <td>664</td>\n",
       "    </tr>\n",
       "    <tr>\n",
       "      <th>5</th>\n",
       "      <td>10</td>\n",
       "      <td>658</td>\n",
       "    </tr>\n",
       "    <tr>\n",
       "      <th>6</th>\n",
       "      <td>17</td>\n",
       "      <td>620</td>\n",
       "    </tr>\n",
       "    <tr>\n",
       "      <th>7</th>\n",
       "      <td>24</td>\n",
       "      <td>614</td>\n",
       "    </tr>\n",
       "    <tr>\n",
       "      <th>8</th>\n",
       "      <td>25</td>\n",
       "      <td>591</td>\n",
       "    </tr>\n",
       "    <tr>\n",
       "      <th>9</th>\n",
       "      <td>12</td>\n",
       "      <td>585</td>\n",
       "    </tr>\n",
       "    <tr>\n",
       "      <th>10</th>\n",
       "      <td>22</td>\n",
       "      <td>555</td>\n",
       "    </tr>\n",
       "    <tr>\n",
       "      <th>11</th>\n",
       "      <td>14</td>\n",
       "      <td>551</td>\n",
       "    </tr>\n",
       "    <tr>\n",
       "      <th>12</th>\n",
       "      <td>18</td>\n",
       "      <td>547</td>\n",
       "    </tr>\n",
       "    <tr>\n",
       "      <th>13</th>\n",
       "      <td>30</td>\n",
       "      <td>547</td>\n",
       "    </tr>\n",
       "    <tr>\n",
       "      <th>14</th>\n",
       "      <td>21</td>\n",
       "      <td>512</td>\n",
       "    </tr>\n",
       "    <tr>\n",
       "      <th>15</th>\n",
       "      <td>19</td>\n",
       "      <td>499</td>\n",
       "    </tr>\n",
       "    <tr>\n",
       "      <th>16</th>\n",
       "      <td>13</td>\n",
       "      <td>495</td>\n",
       "    </tr>\n",
       "    <tr>\n",
       "      <th>17</th>\n",
       "      <td>15</td>\n",
       "      <td>494</td>\n",
       "    </tr>\n",
       "    <tr>\n",
       "      <th>18</th>\n",
       "      <td>8</td>\n",
       "      <td>487</td>\n",
       "    </tr>\n",
       "    <tr>\n",
       "      <th>19</th>\n",
       "      <td>7</td>\n",
       "      <td>463</td>\n",
       "    </tr>\n",
       "    <tr>\n",
       "      <th>20</th>\n",
       "      <td>4</td>\n",
       "      <td>430</td>\n",
       "    </tr>\n",
       "    <tr>\n",
       "      <th>21</th>\n",
       "      <td>3</td>\n",
       "      <td>423</td>\n",
       "    </tr>\n",
       "    <tr>\n",
       "      <th>22</th>\n",
       "      <td>2</td>\n",
       "      <td>419</td>\n",
       "    </tr>\n",
       "    <tr>\n",
       "      <th>23</th>\n",
       "      <td>5</td>\n",
       "      <td>418</td>\n",
       "    </tr>\n",
       "    <tr>\n",
       "      <th>24</th>\n",
       "      <td>27</td>\n",
       "      <td>410</td>\n",
       "    </tr>\n",
       "    <tr>\n",
       "      <th>25</th>\n",
       "      <td>28</td>\n",
       "      <td>389</td>\n",
       "    </tr>\n",
       "    <tr>\n",
       "      <th>26</th>\n",
       "      <td>6</td>\n",
       "      <td>369</td>\n",
       "    </tr>\n",
       "    <tr>\n",
       "      <th>27</th>\n",
       "      <td>1</td>\n",
       "      <td>349</td>\n",
       "    </tr>\n",
       "    <tr>\n",
       "      <th>28</th>\n",
       "      <td>26</td>\n",
       "      <td>248</td>\n",
       "    </tr>\n",
       "    <tr>\n",
       "      <th>29</th>\n",
       "      <td>29</td>\n",
       "      <td>225</td>\n",
       "    </tr>\n",
       "    <tr>\n",
       "      <th>30</th>\n",
       "      <td>31</td>\n",
       "      <td>67</td>\n",
       "    </tr>\n",
       "  </tbody>\n",
       "</table>\n",
       "</div>"
      ],
      "text/plain": [
       "    Dia  Qtd\n",
       "0    20  741\n",
       "1    16  740\n",
       "2    11  725\n",
       "3    23  720\n",
       "4     9  664\n",
       "5    10  658\n",
       "6    17  620\n",
       "7    24  614\n",
       "8    25  591\n",
       "9    12  585\n",
       "10   22  555\n",
       "11   14  551\n",
       "12   18  547\n",
       "13   30  547\n",
       "14   21  512\n",
       "15   19  499\n",
       "16   13  495\n",
       "17   15  494\n",
       "18    8  487\n",
       "19    7  463\n",
       "20    4  430\n",
       "21    3  423\n",
       "22    2  419\n",
       "23    5  418\n",
       "24   27  410\n",
       "25   28  389\n",
       "26    6  369\n",
       "27    1  349\n",
       "28   26  248\n",
       "29   29  225\n",
       "30   31   67"
      ]
     },
     "execution_count": 52,
     "metadata": {},
     "output_type": "execute_result"
    }
   ],
   "source": [
    "# A linha abaixo faz com que todos os resultados sejam exibidos sem serem truncados\n",
    "pd.set_option('display.max_rows', None)\n",
    "\n",
    "df_q6_1.reset_index().drop(columns=['index'])"
   ]
  },
  {
   "cell_type": "code",
   "execution_count": 53,
   "metadata": {},
   "outputs": [],
   "source": [
    "df_q6_2 = df_q6.groupby(['Mes']).agg({\n",
    "    'Qtd' : 'sum'\n",
    "}).reset_index().sort_values(by='Qtd', ascending=False)"
   ]
  },
  {
   "cell_type": "code",
   "execution_count": 54,
   "metadata": {},
   "outputs": [
    {
     "data": {
      "text/html": [
       "<div>\n",
       "<style scoped>\n",
       "    .dataframe tbody tr th:only-of-type {\n",
       "        vertical-align: middle;\n",
       "    }\n",
       "\n",
       "    .dataframe tbody tr th {\n",
       "        vertical-align: top;\n",
       "    }\n",
       "\n",
       "    .dataframe thead th {\n",
       "        text-align: right;\n",
       "    }\n",
       "</style>\n",
       "<table border=\"1\" class=\"dataframe\">\n",
       "  <thead>\n",
       "    <tr style=\"text-align: right;\">\n",
       "      <th></th>\n",
       "      <th>Mes</th>\n",
       "      <th>Qtd</th>\n",
       "    </tr>\n",
       "  </thead>\n",
       "  <tbody>\n",
       "    <tr>\n",
       "      <th>0</th>\n",
       "      <td>12</td>\n",
       "      <td>6775</td>\n",
       "    </tr>\n",
       "    <tr>\n",
       "      <th>1</th>\n",
       "      <td>11</td>\n",
       "      <td>6190</td>\n",
       "    </tr>\n",
       "    <tr>\n",
       "      <th>2</th>\n",
       "      <td>1</td>\n",
       "      <td>2590</td>\n",
       "    </tr>\n",
       "  </tbody>\n",
       "</table>\n",
       "</div>"
      ],
      "text/plain": [
       "   Mes   Qtd\n",
       "0   12  6775\n",
       "1   11  6190\n",
       "2    1  2590"
      ]
     },
     "execution_count": 54,
     "metadata": {},
     "output_type": "execute_result"
    }
   ],
   "source": [
    "df_q6_2.reset_index().drop(columns=['index'])"
   ]
  },
  {
   "cell_type": "code",
   "execution_count": 55,
   "metadata": {},
   "outputs": [],
   "source": [
    "df_q6_3 = df_q6.groupby(['Hora']).agg({\n",
    "    'Qtd' : 'sum'\n",
    "}).reset_index().sort_values(by='Qtd', ascending=False)"
   ]
  },
  {
   "cell_type": "code",
   "execution_count": 56,
   "metadata": {},
   "outputs": [
    {
     "data": {
      "text/html": [
       "<div>\n",
       "<style scoped>\n",
       "    .dataframe tbody tr th:only-of-type {\n",
       "        vertical-align: middle;\n",
       "    }\n",
       "\n",
       "    .dataframe tbody tr th {\n",
       "        vertical-align: top;\n",
       "    }\n",
       "\n",
       "    .dataframe thead th {\n",
       "        text-align: right;\n",
       "    }\n",
       "</style>\n",
       "<table border=\"1\" class=\"dataframe\">\n",
       "  <thead>\n",
       "    <tr style=\"text-align: right;\">\n",
       "      <th></th>\n",
       "      <th>Hora</th>\n",
       "      <th>Qtd</th>\n",
       "    </tr>\n",
       "  </thead>\n",
       "  <tbody>\n",
       "    <tr>\n",
       "      <th>0</th>\n",
       "      <td>22</td>\n",
       "      <td>792</td>\n",
       "    </tr>\n",
       "    <tr>\n",
       "      <th>1</th>\n",
       "      <td>20</td>\n",
       "      <td>729</td>\n",
       "    </tr>\n",
       "    <tr>\n",
       "      <th>2</th>\n",
       "      <td>8</td>\n",
       "      <td>710</td>\n",
       "    </tr>\n",
       "    <tr>\n",
       "      <th>3</th>\n",
       "      <td>3</td>\n",
       "      <td>706</td>\n",
       "    </tr>\n",
       "    <tr>\n",
       "      <th>4</th>\n",
       "      <td>4</td>\n",
       "      <td>701</td>\n",
       "    </tr>\n",
       "    <tr>\n",
       "      <th>5</th>\n",
       "      <td>2</td>\n",
       "      <td>697</td>\n",
       "    </tr>\n",
       "    <tr>\n",
       "      <th>6</th>\n",
       "      <td>17</td>\n",
       "      <td>687</td>\n",
       "    </tr>\n",
       "    <tr>\n",
       "      <th>7</th>\n",
       "      <td>5</td>\n",
       "      <td>686</td>\n",
       "    </tr>\n",
       "    <tr>\n",
       "      <th>8</th>\n",
       "      <td>16</td>\n",
       "      <td>679</td>\n",
       "    </tr>\n",
       "    <tr>\n",
       "      <th>9</th>\n",
       "      <td>6</td>\n",
       "      <td>662</td>\n",
       "    </tr>\n",
       "    <tr>\n",
       "      <th>10</th>\n",
       "      <td>21</td>\n",
       "      <td>652</td>\n",
       "    </tr>\n",
       "    <tr>\n",
       "      <th>11</th>\n",
       "      <td>19</td>\n",
       "      <td>643</td>\n",
       "    </tr>\n",
       "    <tr>\n",
       "      <th>12</th>\n",
       "      <td>0</td>\n",
       "      <td>639</td>\n",
       "    </tr>\n",
       "    <tr>\n",
       "      <th>13</th>\n",
       "      <td>1</td>\n",
       "      <td>637</td>\n",
       "    </tr>\n",
       "    <tr>\n",
       "      <th>14</th>\n",
       "      <td>10</td>\n",
       "      <td>636</td>\n",
       "    </tr>\n",
       "    <tr>\n",
       "      <th>15</th>\n",
       "      <td>15</td>\n",
       "      <td>629</td>\n",
       "    </tr>\n",
       "    <tr>\n",
       "      <th>16</th>\n",
       "      <td>14</td>\n",
       "      <td>623</td>\n",
       "    </tr>\n",
       "    <tr>\n",
       "      <th>17</th>\n",
       "      <td>13</td>\n",
       "      <td>609</td>\n",
       "    </tr>\n",
       "    <tr>\n",
       "      <th>18</th>\n",
       "      <td>23</td>\n",
       "      <td>607</td>\n",
       "    </tr>\n",
       "    <tr>\n",
       "      <th>19</th>\n",
       "      <td>12</td>\n",
       "      <td>601</td>\n",
       "    </tr>\n",
       "    <tr>\n",
       "      <th>20</th>\n",
       "      <td>18</td>\n",
       "      <td>575</td>\n",
       "    </tr>\n",
       "    <tr>\n",
       "      <th>21</th>\n",
       "      <td>11</td>\n",
       "      <td>560</td>\n",
       "    </tr>\n",
       "    <tr>\n",
       "      <th>22</th>\n",
       "      <td>9</td>\n",
       "      <td>552</td>\n",
       "    </tr>\n",
       "    <tr>\n",
       "      <th>23</th>\n",
       "      <td>7</td>\n",
       "      <td>543</td>\n",
       "    </tr>\n",
       "  </tbody>\n",
       "</table>\n",
       "</div>"
      ],
      "text/plain": [
       "    Hora  Qtd\n",
       "0     22  792\n",
       "1     20  729\n",
       "2      8  710\n",
       "3      3  706\n",
       "4      4  701\n",
       "5      2  697\n",
       "6     17  687\n",
       "7      5  686\n",
       "8     16  679\n",
       "9      6  662\n",
       "10    21  652\n",
       "11    19  643\n",
       "12     0  639\n",
       "13     1  637\n",
       "14    10  636\n",
       "15    15  629\n",
       "16    14  623\n",
       "17    13  609\n",
       "18    23  607\n",
       "19    12  601\n",
       "20    18  575\n",
       "21    11  560\n",
       "22     9  552\n",
       "23     7  543"
      ]
     },
     "execution_count": 56,
     "metadata": {},
     "output_type": "execute_result"
    }
   ],
   "source": [
    "df_q6_3.reset_index().drop(columns=['index'])"
   ]
  },
  {
   "cell_type": "markdown",
   "metadata": {},
   "source": [
    "Desta forma, temos os dias, meses e horários em que há maior concentração de vendas e, com base nisso, podemos realizar ações ou para aumentar ainda mais a quantidade de vendas nesses dias, meses ou horários , ou focar onde há baixo volume de vendas."
   ]
  },
  {
   "cell_type": "markdown",
   "metadata": {},
   "source": [
    "### 7. Quais categorias de produtos geram mais receita?"
   ]
  },
  {
   "cell_type": "code",
   "execution_count": 57,
   "metadata": {},
   "outputs": [],
   "source": [
    "df_q7 = df_normal.copy()"
   ]
  },
  {
   "cell_type": "code",
   "execution_count": 58,
   "metadata": {},
   "outputs": [],
   "source": [
    "df_q7 = df_q7.groupby(['category']).agg({\n",
    "    'price_in_usd' : 'sum'\n",
    "}).reset_index().sort_values(by='price_in_usd', ascending=False)\n",
    "# Supondo que 'df' seja o seu DataFrame e 'price_in_usd' a coluna a ser formatada\n",
    "df_q7['price_in_usd'] = df_q7['price_in_usd'].apply(lambda x: f\"{x:,.0f}\".replace(\",\", \".\"))"
   ]
  },
  {
   "cell_type": "code",
   "execution_count": 59,
   "metadata": {},
   "outputs": [],
   "source": [
    "df_q7 = df_q7.rename(columns={\n",
    "    'category' : 'Categoria',\n",
    "    'price_in_usd' : 'Preço em USD'\n",
    "})"
   ]
  },
  {
   "cell_type": "code",
   "execution_count": 60,
   "metadata": {},
   "outputs": [
    {
     "data": {
      "text/html": [
       "<div>\n",
       "<style scoped>\n",
       "    .dataframe tbody tr th:only-of-type {\n",
       "        vertical-align: middle;\n",
       "    }\n",
       "\n",
       "    .dataframe tbody tr th {\n",
       "        vertical-align: top;\n",
       "    }\n",
       "\n",
       "    .dataframe thead th {\n",
       "        text-align: right;\n",
       "    }\n",
       "</style>\n",
       "<table border=\"1\" class=\"dataframe\">\n",
       "  <thead>\n",
       "    <tr style=\"text-align: right;\">\n",
       "      <th></th>\n",
       "      <th>Categoria</th>\n",
       "      <th>Preço em USD</th>\n",
       "    </tr>\n",
       "  </thead>\n",
       "  <tbody>\n",
       "    <tr>\n",
       "      <th>1</th>\n",
       "      <td>Apparel</td>\n",
       "      <td>10.760.619</td>\n",
       "    </tr>\n",
       "    <tr>\n",
       "      <th>13</th>\n",
       "      <td>New</td>\n",
       "      <td>1.161.332</td>\n",
       "    </tr>\n",
       "    <tr>\n",
       "      <th>16</th>\n",
       "      <td>Shop by Brand</td>\n",
       "      <td>1.134.136</td>\n",
       "    </tr>\n",
       "    <tr>\n",
       "      <th>0</th>\n",
       "      <td>Accessories</td>\n",
       "      <td>1.070.535</td>\n",
       "    </tr>\n",
       "    <tr>\n",
       "      <th>19</th>\n",
       "      <td>Uncategorized Items</td>\n",
       "      <td>798.521</td>\n",
       "    </tr>\n",
       "  </tbody>\n",
       "</table>\n",
       "</div>"
      ],
      "text/plain": [
       "              Categoria Preço em USD\n",
       "1               Apparel   10.760.619\n",
       "13                  New    1.161.332\n",
       "16        Shop by Brand    1.134.136\n",
       "0           Accessories    1.070.535\n",
       "19  Uncategorized Items      798.521"
      ]
     },
     "execution_count": 60,
     "metadata": {},
     "output_type": "execute_result"
    }
   ],
   "source": [
    "df_q7.head()"
   ]
  },
  {
   "cell_type": "markdown",
   "metadata": {},
   "source": [
    "### Baixando todos os df's para caso o Supervisor/Coordenador queira realizar análises via Excel"
   ]
  },
  {
   "cell_type": "markdown",
   "metadata": {},
   "source": [
    "Definindo o nome das abas (sheets) por dataframe"
   ]
  },
  {
   "cell_type": "code",
   "execution_count": 61,
   "metadata": {},
   "outputs": [],
   "source": [
    "dataframes = {'Q1' : df_q1,\n",
    "              'Q2' : df_q2,\n",
    "              'Q3' : df_q3,\n",
    "              'Q4' : df_q4,\n",
    "              'Q5' : df_q5,\n",
    "              'Q6_1' : df_q6_1,\n",
    "              'Q6_2' : df_q6_2,\n",
    "              'Q6_3' : df_q6_3,\n",
    "              'Q7' : df_q7}"
   ]
  },
  {
   "cell_type": "markdown",
   "metadata": {},
   "source": [
    "Baixando a base"
   ]
  },
  {
   "cell_type": "code",
   "execution_count": 62,
   "metadata": {},
   "outputs": [],
   "source": [
    "with pd.ExcelWriter(\"C:/Users/Igor/Documents/Projetos Análise de Dados/Google Merchandise Sales/Base Geral - Google Merchandise.xlsx\") as writer:\n",
    "    for sheet_name, df in dataframes.items():\n",
    "        df.to_excel(writer, sheet_name=sheet_name, index=False)\n"
   ]
  }
 ],
 "metadata": {
  "kernelspec": {
   "display_name": "Python 3",
   "language": "python",
   "name": "python3"
  },
  "language_info": {
   "codemirror_mode": {
    "name": "ipython",
    "version": 3
   },
   "file_extension": ".py",
   "mimetype": "text/x-python",
   "name": "python",
   "nbconvert_exporter": "python",
   "pygments_lexer": "ipython3",
   "version": "3.12.1"
  }
 },
 "nbformat": 4,
 "nbformat_minor": 2
}
